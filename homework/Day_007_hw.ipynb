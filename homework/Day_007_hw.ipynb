{
 "cells": [
  {
   "cell_type": "markdown",
   "metadata": {},
   "source": [
    "# Julia 條件與迴圈\n",
    "\n",
    "## Day 007 作業：使用條件與迴圈找出數值\n",
    "\n",
    "運用迴圈及條件判斷，找出並印出範圍內 (例如從 1 到 100)，是 3 的倍數，但是無法被 5 整除的數字。"
   ]
  },
  {
   "cell_type": "code",
   "execution_count": null,
   "metadata": {},
   "outputs": [],
   "source": [
    "x = 1 #範圍起始\n",
    "y = 100 #範圍結束"
   ]
  },
  {
   "cell_type": "code",
   "execution_count": 1,
   "metadata": {},
   "outputs": [
    {
     "name": "stdout",
     "output_type": "stream",
     "text": [
      "3 6 9 12 18 21 24 27 33 36 39 42 48 51 54 57 63 66 69 72 78 81 84 87 93 96 99 "
     ]
    }
   ],
   "source": [
    "# 程式碼\n",
    "for i = 1:100\n",
    "    if (i%3 == 0 && i%5 != 0)\n",
    "        print(\"$i \")\n",
    "    end\n",
    "end"
   ]
  },
  {
   "cell_type": "markdown",
   "metadata": {},
   "source": [
    "## Day 007 作業2：請閱讀下列程式碼，並選擇正確的輸出結果\n",
    "\n",
    "```julia\n",
    "a = 2\n",
    "\n",
    "while a >= 0\n",
    "    for b = 0:2\n",
    "        if (a == b)\n",
    "            print(\"1 \")\n",
    "        else\n",
    "            print(\"0 \")\n",
    "        end\n",
    "    end\n",
    "    println()    \n",
    "    a -= 1\n",
    "end\n",
    "```\n",
    "\n",
    "請問正確的輸出是下列何者？\n",
    "\n",
    "A. 1 0 0<br />\n",
    "0 1 0<br />\n",
    "0 0 1<br />\n",
    "\n",
    "B. 0 1 0<br />\n",
    "1 0 0<br />\n",
    "0 0 1<br />\n",
    "\n",
    "C.  0 0 1<br />\n",
    "0 1 0<br />\n",
    "1 0 0<br />\n",
    "\n",
    "D. 1 0 0<br />\n",
    "0 0 1<br />\n",
    "0 1 0<br />"
   ]
  },
  {
   "cell_type": "code",
   "execution_count": 4,
   "metadata": {},
   "outputs": [
    {
     "name": "stdout",
     "output_type": "stream",
     "text": [
      "The question's answer is C.\n"
     ]
    }
   ],
   "source": [
    "println(\"The question's answer is C.\")"
   ]
  }
 ],
 "metadata": {
  "kernelspec": {
   "display_name": "Julia 1.4.0",
   "language": "julia",
   "name": "julia-1.4"
  },
  "language_info": {
   "file_extension": ".jl",
   "mimetype": "application/julia",
   "name": "julia",
   "version": "1.4.0"
  }
 },
 "nbformat": 4,
 "nbformat_minor": 4
}
