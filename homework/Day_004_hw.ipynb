{
 "cells": [
  {
   "cell_type": "markdown",
   "metadata": {},
   "source": [
    "# Julia 數值系統介紹\n",
    "\n",
    "## Day 004 作業\n",
    "\n",
    "今天的內容提到整數及浮點數型別之最小值和最大值：\n",
    "\n",
    "|是否有正負號|型別|<div style=\"width:120px\">最大值</div>|<div style=\"width:120px\">最小值</div>|\n",
    "|---|---|---|---|\n",
    "|有|Int128, Int64, Int32, Int16, Int8|$2^{位元數-1}-1$|$-2^{位元數-1}$|\n",
    "|無|UInt128, UInt64, UInt32, UInt16, UInt8|$2^{位元數}-1$|$0$|\n",
    "\n",
    "|型別|最小值|最大值|\n",
    "|---|---|---|\n",
    "|`Float64`|-Inf|Inf|\n",
    "|`Float32`|-Inf 或 -Inf32|Inf 或 Inf32|\n",
    "|`Float16`|-Inf 或 -Inf16|Inf 或 Inf16|\n",
    "\n",
    "### 作業：範例程式示範了 Int64 及 Float64 的最小值和最大值，作業請列出並觀察其他整數及浮點數型別的最小值和最大值。"
   ]
  },
  {
   "cell_type": "markdown",
   "metadata": {},
   "source": [
    "呼叫 `typemin()` 及 `typemax()` 函式得到各型別的最小值和最大值。\n",
    "\n",
    "列出 Int128, Int32, Int16, Int8, UInt128, UInt64, UInt32, UInt16, UInt8 整數型別的最小值及最大值"
   ]
  },
  {
   "cell_type": "code",
   "execution_count": 4,
   "metadata": {},
   "outputs": [
    {
     "name": "stdout",
     "output_type": "stream",
     "text": [
      "Int128 Range: -170141183460469231731687303715884105728 ~ 170141183460469231731687303715884105727\n",
      "Int32 Range: -2147483648 ~ 2147483647\n",
      "Int16 Range: -32768 ~ 32767\n",
      "Int8 Range: -128 ~ 127\n",
      "UInt128 Range: 0 ~ 340282366920938463463374607431768211455\n",
      "UInt64 Range: 0 ~ 18446744073709551615\n",
      "UInt32 Range: 0 ~ 4294967295\n",
      "UInt16 Range: 0 ~ 65535\n",
      "UInt8 Range: 0 ~ 255\n"
     ]
    }
   ],
   "source": [
    "println(\"Int128 Range: \", typemin(Int128), \" ~ \", typemax(Int128))\n",
    "println(\"Int32 Range: \", typemin(Int32), \" ~ \", typemax(Int32))\n",
    "println(\"Int16 Range: \", typemin(Int16), \" ~ \", typemax(Int16))\n",
    "println(\"Int8 Range: \", typemin(Int8), \" ~ \", typemax(Int8))\n",
    "println(\"UInt128 Range: \", typemin(UInt128), \" ~ \", typemax(UInt128))\n",
    "println(\"UInt64 Range: \", typemin(UInt64), \" ~ \", typemax(UInt64))\n",
    "println(\"UInt32 Range: \", typemin(UInt32), \" ~ \", typemax(UInt32))\n",
    "println(\"UInt16 Range: \", typemin(UInt16), \" ~ \", typemax(UInt16))\n",
    "println(\"UInt8 Range: \", typemin(UInt8), \" ~ \", typemax(UInt8))"
   ]
  },
  {
   "cell_type": "markdown",
   "metadata": {},
   "source": [
    "列出 Float32, Float16 浮點數型別的最小和最大值"
   ]
  },
  {
   "cell_type": "code",
   "execution_count": 9,
   "metadata": {},
   "outputs": [
    {
     "name": "stdout",
     "output_type": "stream",
     "text": [
      "Float32 Range: -Inf ~ Inf\n"
     ]
    }
   ],
   "source": [
    "println(\"Float32 Range: \", typemin(Float32), \" ~ \", typemax(Float32))\n",
    "#其邊界值為無窮大或負無窮大。無窮值 (Inf 及 -Inf) 在 Julia 都是正常的浮點數"
   ]
  },
  {
   "cell_type": "code",
   "execution_count": 6,
   "metadata": {},
   "outputs": [
    {
     "name": "stdout",
     "output_type": "stream",
     "text": [
      "Float16 Range: -Inf ~ Inf\n"
     ]
    }
   ],
   "source": [
    "println(\"Float16 Range: \", typemin(Float16), \" ~ \", typemax(Float16))\n",
    "#其邊界值為無窮大或負無窮大。無窮值 (Inf 及 -Inf) 在 Julia 都是正常的浮點數"
   ]
  }
 ],
 "metadata": {
  "@webio": {
   "lastCommId": null,
   "lastKernelId": null
  },
  "kernelspec": {
   "display_name": "Julia 1.4.0",
   "language": "julia",
   "name": "julia-1.4"
  },
  "language_info": {
   "file_extension": ".jl",
   "mimetype": "application/julia",
   "name": "julia",
   "version": "1.4.0"
  }
 },
 "nbformat": 4,
 "nbformat_minor": 4
}
