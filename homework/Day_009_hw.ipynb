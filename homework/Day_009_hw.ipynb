{
 "cells": [
  {
   "cell_type": "markdown",
   "metadata": {},
   "source": [
    "# 陣列 (Array)\n",
    "\n",
    "## Day 009 作業：比較不同的內建排序演算法\n",
    "\n",
    "除了範例程式示範的 QuickSort 之外，Julia 也內建支援幾種不同的排序演算法：\n",
    "\n",
    "- InsertionSort\n",
    "- PartialQuickSort(k)\n",
    "- MergeSort\n",
    "\n",
    "1. 請閱讀官方文件及範例 [Sorting-Algorithms](https://docs.julialang.org/en/v1/base/sort/#Sorting-Algorithms-1)\n",
    "\n",
    "2. 撰寫程式隨機產生 100000 個 200 到 500 之間的數字來建立陣列，執行不同排序方法，來比較不同排序方法的速度。\n",
    "\n",
    "**[提示]** 排序執行所需時間可以用巨集 `@time` 或 `@elapsed` 來取得。"
   ]
  },
  {
   "cell_type": "code",
   "execution_count": 21,
   "metadata": {},
   "outputs": [
    {
     "data": {
      "text/plain": [
       "100000-element Array{Int64,1}:\n",
       " 348\n",
       " 468\n",
       " 491\n",
       " 217\n",
       " 500\n",
       " 241\n",
       " 500\n",
       " 299\n",
       " 467\n",
       " 309\n",
       " 418\n",
       " 443\n",
       " 463\n",
       "   ⋮\n",
       " 475\n",
       " 329\n",
       " 325\n",
       " 411\n",
       " 479\n",
       " 327\n",
       " 484\n",
       " 248\n",
       " 474\n",
       " 373\n",
       " 449\n",
       " 424"
      ]
     },
     "execution_count": 21,
     "metadata": {},
     "output_type": "execute_result"
    }
   ],
   "source": [
    "# 產生 100000 個 200 到 500 之間的數字的陣列\n",
    "x = rand(200:500,100000) # 請將註解取代為程式碼"
   ]
  },
  {
   "cell_type": "markdown",
   "metadata": {},
   "source": [
    "## Insertion Sort"
   ]
  },
  {
   "cell_type": "code",
   "execution_count": 22,
   "metadata": {},
   "outputs": [
    {
     "data": {
      "text/plain": [
       "0.000589782"
      ]
     },
     "execution_count": 22,
     "metadata": {},
     "output_type": "execute_result"
    }
   ],
   "source": [
    "@elapsed sort(x, alg=InsertionSort)"
   ]
  },
  {
   "cell_type": "markdown",
   "metadata": {},
   "source": [
    "## Merge Sort"
   ]
  },
  {
   "cell_type": "code",
   "execution_count": 23,
   "metadata": {},
   "outputs": [
    {
     "data": {
      "text/plain": [
       "0.000524461"
      ]
     },
     "execution_count": 23,
     "metadata": {},
     "output_type": "execute_result"
    }
   ],
   "source": [
    "@elapsed sort(x; alg=MergeSort)"
   ]
  },
  {
   "cell_type": "markdown",
   "metadata": {},
   "source": [
    "## Partial Quick Sort"
   ]
  },
  {
   "cell_type": "code",
   "execution_count": 24,
   "metadata": {},
   "outputs": [
    {
     "data": {
      "text/plain": [
       "0.000567882"
      ]
     },
     "execution_count": 24,
     "metadata": {},
     "output_type": "execute_result"
    }
   ],
   "source": [
    "@elapsed sort(x; alg=PartialQuickSort(1000))"
   ]
  },
  {
   "cell_type": "markdown",
   "metadata": {},
   "source": [
    "## QuickSort"
   ]
  },
  {
   "cell_type": "code",
   "execution_count": 25,
   "metadata": {},
   "outputs": [
    {
     "data": {
      "text/plain": [
       "0.000585251"
      ]
     },
     "execution_count": 25,
     "metadata": {},
     "output_type": "execute_result"
    }
   ],
   "source": [
    "@elapsed sort(x, alg=QuickSort)"
   ]
  },
  {
   "cell_type": "markdown",
   "metadata": {},
   "source": [
    "## 請問哪一種排序方法的效能最好？"
   ]
  },
  {
   "cell_type": "code",
   "execution_count": 26,
   "metadata": {},
   "outputs": [
    {
     "name": "stdout",
     "output_type": "stream",
     "text": [
      "The Merge sort is the fastest sort algorithm.\n"
     ]
    }
   ],
   "source": [
    "println(\"The Merge sort is the fastest sort algorithm.\")"
   ]
  }
 ],
 "metadata": {
  "kernelspec": {
   "display_name": "Julia 1.4.0",
   "language": "julia",
   "name": "julia-1.4"
  },
  "language_info": {
   "file_extension": ".jl",
   "mimetype": "application/julia",
   "name": "julia",
   "version": "1.4.0"
  }
 },
 "nbformat": 4,
 "nbformat_minor": 4
}
